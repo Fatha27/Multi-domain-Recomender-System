{
 "cells": [
  {
   "cell_type": "code",
   "execution_count": null,
   "metadata": {},
   "outputs": [],
   "source": [
    "import pickle\n",
    "import pandas as pd"
   ]
  },
  {
   "cell_type": "code",
   "execution_count": null,
   "metadata": {},
   "outputs": [],
   "source": [
    "with open(\"udf.pkl\", 'rb') as f:\n",
    "    df = pickle.load(f)"
   ]
  },
  {
   "cell_type": "code",
   "execution_count": null,
   "metadata": {},
   "outputs": [],
   "source": [
    "with open(\"udemy_clean.pkl\", 'rb') as f:\n",
    "    ud = pickle.load(f)"
   ]
  },
  {
   "cell_type": "code",
   "execution_count": null,
   "metadata": {},
   "outputs": [],
   "source": [
    "with open(\"usim.pkl\", 'rb') as f:\n",
    "    sim = pickle.load(f)"
   ]
  },
  {
   "cell_type": "code",
   "execution_count": null,
   "metadata": {},
   "outputs": [],
   "source": [
    "def recommend_utf(title_utf):\n",
    "    title_utf = ' '.join(w.capitalize() for w in title_utf.split())    \n",
    "    index_utf = ud[ud['title'].apply(lambda x: ' '.join(w.capitalize() for w in x.split())) == title_utf].index\n",
    "    distances_utf = sorted(list(enumerate(sim[index_utf])),reverse=True,key = lambda x: x[1])\n",
    "    recommended_titles_set = set()  # To track unique recommended book titles\n",
    "    counter=0\n",
    "    recommendations=[]\n",
    "    for i in distances_utf[1:50]:\n",
    "       title = ud.iloc[i[0]].title\n",
    "       if title not in recommended_titles_set and title!=title_utf:\n",
    "        recommended_titles_set.add(title)\n",
    "        title_index = i[0]\n",
    "        recommended_course = df.iloc[title_index]\n",
    "        recommendation = {\n",
    "                    \"Course\": recommended_course['title'],\n",
    "                    \"Instructor\": recommended_course['instructor'],\n",
    "                    \"Description\": recommended_course['description'],\n",
    "                    \"Rating\": recommended_course['rating'],\n",
    "                    \"Level\": recommended_course['level'],\n",
    "                    \"Lectures\":recommended_course['lectures'],\n",
    "                    \"Duration\":recommended_course['duration']\n",
    "                }\n",
    "        recommendations.append(recommendation)\n",
    "        counter += 1\n",
    "       if counter == 6:\n",
    "            break\n",
    "    return recommendations"
   ]
  }
 ],
 "metadata": {
  "kernelspec": {
   "display_name": "Python 3",
   "language": "python",
   "name": "python3"
  },
  "language_info": {
   "codemirror_mode": {
    "name": "ipython",
    "version": 3
   },
   "file_extension": ".py",
   "mimetype": "text/x-python",
   "name": "python",
   "nbconvert_exporter": "python",
   "pygments_lexer": "ipython3",
   "version": "3.10.8"
  }
 },
 "nbformat": 4,
 "nbformat_minor": 2
}
